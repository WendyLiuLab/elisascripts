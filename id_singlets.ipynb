{
 "metadata": {
  "name": "",
  "signature": "sha256:19e01b848330103007e42db4765c13d1ae7c7117d4b0b2f52380461df4572690"
 },
 "nbformat": 3,
 "nbformat_minor": 0,
 "worksheets": [
  {
   "cells": [
    {
     "cell_type": "code",
     "collapsed": false,
     "input": [
      "%matplotlib inline\n",
      "import tifffile as tf\n",
      "import numpy as np\n",
      "import numexpr as ne\n",
      "import matplotlib as mpl\n",
      "import matplotlib.pyplot as plt\n",
      "import scipy as sp\n",
      "import scipy.ndimage as img\n",
      "import scipy.spatial as spatial"
     ],
     "language": "python",
     "metadata": {},
     "outputs": [],
     "prompt_number": 1
    },
    {
     "cell_type": "code",
     "collapsed": false,
     "input": [
      "orig = tf.TiffFile('Fusedlivedead-10x.tif')\n",
      "red, green = orig"
     ],
     "language": "python",
     "metadata": {},
     "outputs": [],
     "prompt_number": 2
    },
    {
     "cell_type": "code",
     "collapsed": false,
     "input": [
      "spots = green.asarray() > 1534"
     ],
     "language": "python",
     "metadata": {},
     "outputs": [],
     "prompt_number": 3
    },
    {
     "cell_type": "code",
     "collapsed": false,
     "input": [
      "# plt.imshow(spots)"
     ],
     "language": "python",
     "metadata": {},
     "outputs": [],
     "prompt_number": 4
    },
    {
     "cell_type": "code",
     "collapsed": false,
     "input": [
      "labels, n_spots = img.label(spots)\n",
      "print(\"Found {} objects\".format(n_spots))"
     ],
     "language": "python",
     "metadata": {},
     "outputs": [
      {
       "output_type": "stream",
       "stream": "stdout",
       "text": [
        "Found 7805 objects\n"
       ]
      }
     ],
     "prompt_number": 5
    },
    {
     "cell_type": "code",
     "collapsed": false,
     "input": [
      "centers = np.array(img.center_of_mass(labels, labels, xrange(1, n_spots+1)))\n",
      "distances = spatial.distance_matrix(centers, centers)\n",
      "doublets = np.any((distances > 0) & (distances < 25), axis=1)\n",
      "\n",
      "slices = img.find_objects(labels)\n",
      "for i in np.flatnonzero(doublets):\n",
      "    this_slice = labels[slices[i]]\n",
      "    this_slice[this_slice == i+1] = 0\n",
      "labels, n_singlets = img.label(labels)\n",
      "print(\"Keeping {} singlets.\".format(n_singlets))"
     ],
     "language": "python",
     "metadata": {},
     "outputs": [
      {
       "output_type": "stream",
       "stream": "stdout",
       "text": [
        "Keeping 3687 singlets.\n"
       ]
      }
     ],
     "prompt_number": 6
    },
    {
     "cell_type": "code",
     "collapsed": false,
     "input": [
      "sizes = img.sum(spots, labels, xrange(1, n_singlets+1))\n",
      "cells = np.flatnonzero((sizes >= 10) & (sizes < 32)) + 1\n",
      "print(\"Found {} cells\".format(len(cells)))"
     ],
     "language": "python",
     "metadata": {},
     "outputs": [
      {
       "output_type": "stream",
       "stream": "stdout",
       "text": [
        "Found 1606 cells\n"
       ]
      }
     ],
     "prompt_number": 7
    },
    {
     "cell_type": "code",
     "collapsed": false,
     "input": [
      "slices = img.find_objects(labels)\n",
      "# iterate over the indices of the spots\n",
      "for i in xrange(1, n_singlets+1):\n",
      "    if i in cells: continue\n",
      "    this_slice = labels[slices[i-1]]\n",
      "    this_slice[this_slice == i] = 0\n",
      "labels, n_cells = img.label(labels)\n",
      "print(\"Keeping {} cells.\".format(n_cells))"
     ],
     "language": "python",
     "metadata": {},
     "outputs": [
      {
       "output_type": "stream",
       "stream": "stdout",
       "text": [
        "Keeping 1606 cells.\n"
       ]
      }
     ],
     "prompt_number": 8
    },
    {
     "cell_type": "code",
     "collapsed": false,
     "input": [
      "# plt.imshow(labels)\n",
      "# plt.imsave(\"singlet-labels.tif\", labels)"
     ],
     "language": "python",
     "metadata": {},
     "outputs": [],
     "prompt_number": 9
    },
    {
     "cell_type": "code",
     "collapsed": false,
     "input": [
      "indices = range(1, n_cells+1)\n",
      "centers = np.array(img.center_of_mass(labels, labels, indices))\n",
      "green_scores = img.sum(green.asarray(), labels, indices).reshape((-1, 1))\n",
      "red_scores = img.sum(red.asarray(), labels, indices).reshape((-1, 1))\n",
      "areas = img.sum(spots, labels, indices).reshape((-1, 1))\n",
      "scores = np.hstack((centers, areas, green_scores, red_scores))\n",
      "np.savetxt(\"livedead_cells.txt\", scores, delimiter=\"\\t\", comments=\"\", fmt=\"%f\",\n",
      "           header=\"\\t\".join([\"x\", \"y\", \"area\", \"green\", \"red\"]))"
     ],
     "language": "python",
     "metadata": {},
     "outputs": [],
     "prompt_number": 10
    },
    {
     "cell_type": "code",
     "collapsed": false,
     "input": [
      "from PIL import Image, ImageDraw\n",
      "selected_img = Image.fromarray((green.asarray() * (255.0/4095)).astype(np.uint8)).convert(\"RGB\")\n",
      "draw = ImageDraw.Draw(selected_img)\n",
      "for x,y in list(centers):\n",
      "    draw.ellipse([y-5,x-5,y+5,x+5], None, \"red\")\n",
      "del draw\n",
      "selected_img.save(\"selected_spots.jpg\")"
     ],
     "language": "python",
     "metadata": {},
     "outputs": [],
     "prompt_number": 11
    },
    {
     "cell_type": "code",
     "collapsed": false,
     "input": [],
     "language": "python",
     "metadata": {},
     "outputs": [],
     "prompt_number": 11
    }
   ],
   "metadata": {}
  }
 ]
}