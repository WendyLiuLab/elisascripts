{
 "metadata": {
  "name": "",
  "signature": "sha256:66007660efacffe3383a8c9633c5e9504d8513ff8651a9e5ef38f90721134aab"
 },
 "nbformat": 3,
 "nbformat_minor": 0,
 "worksheets": [
  {
   "cells": [
    {
     "cell_type": "code",
     "collapsed": false,
     "input": [
      "%matplotlib inline\n",
      "import numpy as np\n",
      "import numpy.linalg\n",
      "import tifffile as tf\n",
      "import matplotlib as mpl\n",
      "import matplotlib.pyplot as plt\n",
      "import scipy as sp\n",
      "import scipy.ndimage as img\n",
      "import readroi\n",
      "from PIL import Image\n",
      "import cairo\n",
      "ELISA_RAD = 50"
     ],
     "language": "python",
     "metadata": {},
     "outputs": [],
     "prompt_number": 1
    },
    {
     "cell_type": "code",
     "collapsed": false,
     "input": [
      "def prep_rois(fn):\n",
      "    rois = readroi.read_roi_zip(fn)\n",
      "    rois = np.vstack([roi[1] for roi in rois])\n",
      "    rois = np.hstack((rois, np.ones((len(rois), 1))))\n",
      "    return rois\n",
      "\n",
      "elisa_cx = prep_rois('elisa-roi.zip')\n",
      "cell_cx = prep_rois('livedead-roi.zip')"
     ],
     "language": "python",
     "metadata": {},
     "outputs": [],
     "prompt_number": 2
    },
    {
     "cell_type": "code",
     "collapsed": false,
     "input": [
      "# thanks to http://www.comp.nus.edu.sg/~cs4243/lecture/register.pdf\n",
      "x_tx,_,_,_ = np.linalg.lstsq(cell_cx, elisa_cx[:,0])\n",
      "y_tx,_,_,_ = np.linalg.lstsq(cell_cx, elisa_cx[:,1])\n",
      "tx = np.vstack((x_tx.reshape((1,-1)), y_tx.reshape((1,-1)), [[0, 0, 1]]))\n",
      "transformed = np.dot(tx, cell_cx.T).T\n",
      "tx"
     ],
     "language": "python",
     "metadata": {},
     "outputs": [
      {
       "metadata": {},
       "output_type": "pyout",
       "prompt_number": 3,
       "text": [
        "array([[  1.58523102e+00,  -3.70745612e+00,   1.17994568e+04],\n",
        "       [  3.70997181e+00,   1.57911283e+00,  -4.16989526e+03],\n",
        "       [  0.00000000e+00,   0.00000000e+00,   1.00000000e+00]])"
       ]
      }
     ],
     "prompt_number": 3
    },
    {
     "cell_type": "code",
     "collapsed": false,
     "input": [
      "plt.plot(elisa_cx[:,0], elisa_cx[:,1], 'o', transformed[:,0], transformed[:,1], 'r.')"
     ],
     "language": "python",
     "metadata": {},
     "outputs": [
      {
       "metadata": {},
       "output_type": "pyout",
       "prompt_number": 4,
       "text": [
        "[<matplotlib.lines.Line2D at 0x10e6d15d0>,\n",
        " <matplotlib.lines.Line2D at 0x10e73e790>]"
       ]
      },
      {
       "metadata": {},
       "output_type": "display_data",
       "png": "[encoded data removed]",
       "text": [
        "<matplotlib.figure.Figure at 0x10e2da390>"
       ]
      }
     ],
     "prompt_number": 4
    },
    {
     "cell_type": "code",
     "collapsed": false,
     "input": [
      "elisa_data = tf.TiffFile(\"Fused-bgsub-mirrored.tif\")[0].asarray()\n",
      "minval = elisa_data[elisa_data.nonzero()].min()\n",
      "maxval = elisa_data.max()\n",
      "elisa_image_data = elisa_data - minval\n",
      "elisa_image_data *= 255.0/(maxval-minval)\n",
      "elisa_image_data = elisa_image_data.astype(np.uint8)\n",
      "cairo_image_data = np.dstack([elisa_image_data, elisa_image_data, elisa_image_data, np.ones_like(elisa_image_data)*255])\n",
      "surface = cairo.ImageSurface.create_for_data(cairo_image_data, cairo.FORMAT_ARGB32, *(reversed(elisa_image_data.shape)))"
     ],
     "language": "python",
     "metadata": {},
     "outputs": [],
     "prompt_number": 5
    },
    {
     "cell_type": "code",
     "collapsed": false,
     "input": [
      "def in_bounds(x, elisa_shape):\n",
      "    return ((x[:,0] - ELISA_RAD >= 0) &\n",
      "            (x[:,0] + ELISA_RAD < elisa_shape[1]) &\n",
      "            (x[:,1] - ELISA_RAD >= 0) &\n",
      "            (x[:,1] + ELISA_RAD < elisa_shape[0]))\n",
      "\n",
      "celldata = np.loadtxt(\"livedead_cells.txt\", delimiter=\"\\t\", skiprows=1)\n",
      "native_cells = np.hstack((celldata[:,[1,0]], np.ones((celldata.shape[0], 1))))\n",
      "tx_cells = np.dot(tx, native_cells.T).T\n",
      "print(\"Loaded {} cells.\".format(celldata.shape[0]))\n",
      "row_idx = np.nonzero(in_bounds(tx_cells, elisa_data.shape))\n",
      "tx_cells = tx_cells[row_idx]\n",
      "print(\"Kept {} in-bounds cells.\".format(tx_cells.shape[0]))"
     ],
     "language": "python",
     "metadata": {},
     "outputs": [
      {
       "output_type": "stream",
       "stream": "stdout",
       "text": [
        "Loaded 1606 cells.\n",
        "Kept 938 in-bounds cells.\n"
       ]
      }
     ],
     "prompt_number": 6
    },
    {
     "cell_type": "code",
     "collapsed": false,
     "input": [
      "def annotate_cells(cairo_surface, cell_xyz, rgb):\n",
      "    cr = cairo.Context(cairo_surface)\n",
      "    cr.set_source_rgb(*rgb)\n",
      "    cr.set_line_width(5)\n",
      "    for x, y, z in list(cell_xyz):\n",
      "        cr.arc(x, y, ELISA_RAD, 0, 2*np.pi)\n",
      "        cr.stroke()\n",
      "    return cairo_surface\n",
      "\n",
      "surface = annotate_cells(surface, tx_cells, (1.0, 0.0, 0.0))"
     ],
     "language": "python",
     "metadata": {},
     "outputs": [],
     "prompt_number": 7
    },
    {
     "cell_type": "code",
     "collapsed": false,
     "input": [
      "def com_transform(cell_xyz, elisa_array):\n",
      "    com_cells = np.zeros_like(cell_xyz)\n",
      "    for i, (x, y, z) in enumerate(list(cell_xyz)):\n",
      "        region = elisa_array[y-ELISA_RAD:y+ELISA_RAD, x-ELISA_RAD:x+ELISA_RAD]\n",
      "        yp, xp = img.measurements.center_of_mass(region)\n",
      "        com_cells[i,:] = (x-ELISA_RAD+xp, y-ELISA_RAD+yp, 1)\n",
      "    return com_cells\n",
      "\n",
      "com_cells = com_transform(tx_cells, elisa_image_data)"
     ],
     "language": "python",
     "metadata": {},
     "outputs": [],
     "prompt_number": 8
    },
    {
     "cell_type": "code",
     "collapsed": false,
     "input": [
      "com_cells = com_transform(com_cells, elisa_image_data)\n",
      "annotate_cells(surface, com_cells, (0.0, 0.0, 1.0))\n",
      "h, w = cairo_image_data.shape[:-1]\n",
      "a = Image.frombuffer(\"RGBA\", (w, h), surface.get_data(), \"raw\", \"BGRA\", 0, 1)\n",
      "a.save(\"annotated.jpg\")"
     ],
     "language": "python",
     "metadata": {},
     "outputs": [],
     "prompt_number": 9
    },
    {
     "cell_type": "code",
     "collapsed": false,
     "input": [
      "def circle(rad):\n",
      "    y, x = np.ogrid[-rad:rad, -rad:rad]\n",
      "    mask = x*x + y*y <= rad*rad\n",
      "    return np.ones((2*rad, 2*rad)) * mask\n",
      "\n",
      "stats = np.zeros((com_cells.shape[0], 8))\n",
      "mask = circle(ELISA_RAD) == 0\n",
      "for i, (x, y, z) in enumerate(list(com_cells)):\n",
      "    region = elisa_data[y-ELISA_RAD:y+ELISA_RAD, x-ELISA_RAD:x+ELISA_RAD]\n",
      "    region = np.ma.array(region, mask=mask)\n",
      "    mean, sd, maxv, minv, integ = region.mean(), region.std(), region.max(), region.min(), region.sum()\n",
      "    valid = region.compressed()\n",
      "    lq = np.percentile(valid, 0.25)\n",
      "    median = np.median(valid)\n",
      "    uq = np.percentile(valid, 0.75)\n",
      "    stats[i,:] = mean, sd, maxv, minv, integ, lq, median, uq"
     ],
     "language": "python",
     "metadata": {},
     "outputs": [],
     "prompt_number": 10
    },
    {
     "cell_type": "code",
     "collapsed": false,
     "input": [
      "out = np.hstack([row_idx[0].reshape((-1,1)), com_cells[:,:2], stats])\n",
      "header = ['cells_row', 'x', 'y', 'mean', 'sd', 'max', 'min', 'integrated', 'q25', 'q50', 'q75']\n",
      "np.savetxt('elisa_results.csv', out, delimiter=',', fmt=['%d'] * 3 + ['%f'] * 8, header=','.join(header), comments='')"
     ],
     "language": "python",
     "metadata": {},
     "outputs": [],
     "prompt_number": 11
    }
   ],
   "metadata": {}
  }
 ]
}